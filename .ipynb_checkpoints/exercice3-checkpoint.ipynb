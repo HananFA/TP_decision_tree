{
 "cells": [
  {
   "cell_type": "markdown",
   "id": "99944922-1ea1-4920-85d3-83e1d2887d2e",
   "metadata": {},
   "source": [
    "# TP3 - Exercice 3: Régression avec les arbres de décision - California Housing"
   ]
  },
  {
   "cell_type": "markdown",
   "id": "7b85d9c6-94b2-4e3a-bb6c-8cbdc763a7fc",
   "metadata": {},
   "source": [
    "## 1. Importer les bibliothèques nécessaires et charger le jeu de données"
   ]
  },
  {
   "cell_type": "code",
   "execution_count": null,
   "id": "075d380c-af78-4857-b451-0854e598dbb0",
   "metadata": {},
   "outputs": [],
   "source": []
  }
 ],
 "metadata": {
  "kernelspec": {
   "display_name": "Python 3 (ipykernel)",
   "language": "python",
   "name": "python3"
  },
  "language_info": {
   "codemirror_mode": {
    "name": "ipython",
    "version": 3
   },
   "file_extension": ".py",
   "mimetype": "text/x-python",
   "name": "python",
   "nbconvert_exporter": "python",
   "pygments_lexer": "ipython3",
   "version": "3.11.9"
  }
 },
 "nbformat": 4,
 "nbformat_minor": 5
}
